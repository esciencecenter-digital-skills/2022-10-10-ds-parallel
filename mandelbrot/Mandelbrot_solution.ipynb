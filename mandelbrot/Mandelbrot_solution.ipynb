{
 "cells": [
  {
   "cell_type": "code",
   "execution_count": 1,
   "id": "d49d431b-3eec-4120-9a8c-8ea6c389159e",
   "metadata": {},
   "outputs": [],
   "source": [
    "# Define a finite extent\n",
    "# CENTER = -0.8 + 0.0j # Location of the extent center\n",
    "# EXTENT = 3.0 + 3.0j # Extent length on the real axis\n",
    "CENTER = -1.1195+0.2718j\n",
    "EXTENT = 0.005+0.005j\n",
    "\n",
    "# Select finite number of complex numbers\n",
    "# In total width*height complex numbers will be inspected \n",
    "WIDTH = 1024  # number of elemtes along the real axis\n",
    "HEIGHT = 1024 # number of elemtes along the imaginary axis\n",
    "\n",
    "# Finite iterations\n",
    "MAX_ITER = 1024 # Max number of iterations per"
   ]
  },
  {
   "cell_type": "markdown",
   "id": "c27cfd41-1e47-41e7-b5a5-c7870f8ee964",
   "metadata": {},
   "source": [
    "# Setting the baseline: Numba jit"
   ]
  },
  {
   "cell_type": "code",
   "execution_count": 2,
   "id": "7e5542d0-67ed-4c65-aeb5-4b39829ea79a",
   "metadata": {},
   "outputs": [],
   "source": [
    "import numpy as np\n",
    "import numba\n",
    "\n",
    "@numba.njit(nogil=True)\n",
    "def mandelbrot(c, max_iter=MAX_ITER):\n",
    "    z = 0\n",
    "\n",
    "    # Per complex number, validate it for a finite number of iterations\n",
    "    for k in range(max_iter):\n",
    "        z = z**2 + c\n",
    "\n",
    "        # if the modulus (or absolute value) of the complex number is greater than 2,\n",
    "        # it will diverge, thus not within Mandelbrot set\n",
    "        if np.absolute(z) > 2.0: \n",
    "            break\n",
    "\n",
    "    return k\n",
    "\n",
    "@numba.njit(nogil=True)\n",
    "def compute_mandelbrot(width=WIDTH, height=HEIGHT, center=CENTER, extent=EXTENT, max_iter=MAX_ITER):\n",
    "    niters = np.zeros((width, height), np.int64)\n",
    "    scale = max(extent.real / width, extent.imag / height)\n",
    "\n",
    "    # Loop through all selected complex number within the extent\n",
    "    for j in range(height):\n",
    "        for i in range(width):\n",
    "            c = center + (i - width // 2 + (j - height //2) * 1j) * scale\n",
    "            k = mandelbrot(c, max_iter)\n",
    "            niters[j, i] = k\n",
    "    return niters"
   ]
  },
  {
   "cell_type": "code",
   "execution_count": 3,
   "id": "90b689ba-b9b5-491e-a5e2-81901b61e28e",
   "metadata": {},
   "outputs": [
    {
     "data": {
      "text/plain": [
       "array([[117, 116, 202, ...,  53,  54,  54],\n",
       "       [143,  94,  94, ...,  53,  53,  54],\n",
       "       [162,  91,  90, ...,  53,  53,  53],\n",
       "       ...,\n",
       "       [ 36,  36,  36, ...,  90, 106,  53],\n",
       "       [ 36,  36,  36, ...,  58,  76,  54],\n",
       "       [ 36,  36,  36, ...,  52,  52,  55]])"
      ]
     },
     "execution_count": 3,
     "metadata": {},
     "output_type": "execute_result"
    }
   ],
   "source": [
    "# Compute once to compile\n",
    "compute_mandelbrot()"
   ]
  },
  {
   "cell_type": "code",
   "execution_count": 4,
   "id": "2f21aba0-c547-4b63-a16e-d4e869a90012",
   "metadata": {},
   "outputs": [
    {
     "name": "stdout",
     "output_type": "stream",
     "text": [
      "823 ms ± 3.57 ms per loop (mean ± std. dev. of 7 runs, 1 loop each)\n"
     ]
    }
   ],
   "source": [
    "%%timeit\n",
    "compute_mandelbrot()"
   ]
  },
  {
   "cell_type": "markdown",
   "id": "c5993337-73cb-4a91-a91b-bee82368dffd",
   "metadata": {},
   "source": [
    "# Solution 1: Numba jit parallel\n",
    "Numba has built-in parallelisation options. Let's try them!"
   ]
  },
  {
   "cell_type": "code",
   "execution_count": 5,
   "id": "14e960b7-3e86-48b8-8e00-1e8c97321209",
   "metadata": {},
   "outputs": [],
   "source": [
    "@numba.njit(parallel=True)\n",
    "def compute_mandelbrot_par(width=WIDTH, height=HEIGHT, center=CENTER, extent=EXTENT, max_iter=MAX_ITER):\n",
    "    niters = np.zeros((width, height), np.int64)\n",
    "    scale = max(extent.real / width, extent.imag / height)\n",
    "\n",
    "    # Loop through all selected complex number within the extent\n",
    "    for j in range(height):\n",
    "        for i in range(width):\n",
    "            c = center + (i - width // 2 + (j - height //2) * 1j) * scale\n",
    "            k = mandelbrot(c, max_iter)\n",
    "            niters[j, i] = k\n",
    "    return niters"
   ]
  },
  {
   "cell_type": "code",
   "execution_count": 6,
   "id": "34da2c21-1e6f-41cf-b90c-39c2be9311e8",
   "metadata": {},
   "outputs": [
    {
     "data": {
      "text/plain": [
       "array([[117, 116, 202, ...,  53,  54,  54],\n",
       "       [143,  94,  94, ...,  53,  53,  54],\n",
       "       [162,  91,  90, ...,  53,  53,  53],\n",
       "       ...,\n",
       "       [ 36,  36,  36, ...,  90, 106,  53],\n",
       "       [ 36,  36,  36, ...,  58,  76,  54],\n",
       "       [ 36,  36,  36, ...,  52,  52,  55]])"
      ]
     },
     "execution_count": 6,
     "metadata": {},
     "output_type": "execute_result"
    }
   ],
   "source": [
    "# Compute once to compile\n",
    "compute_mandelbrot_par()"
   ]
  },
  {
   "cell_type": "code",
   "execution_count": 7,
   "id": "080a3492-2674-47f5-b567-a2fe3ffdee54",
   "metadata": {},
   "outputs": [
    {
     "name": "stdout",
     "output_type": "stream",
     "text": [
      "833 ms ± 9.86 ms per loop (mean ± std. dev. of 7 runs, 1 loop each)\n"
     ]
    }
   ],
   "source": [
    "%%timeit\n",
    "compute_mandelbrot_par()"
   ]
  },
  {
   "cell_type": "markdown",
   "id": "bb9fb282-72d4-44ee-b0fa-0ce5315fe64b",
   "metadata": {},
   "source": [
    "That is actually slower!"
   ]
  },
  {
   "cell_type": "markdown",
   "id": "c2005bee-1184-45e6-9ad7-7f2b8e74f0e2",
   "metadata": {},
   "source": [
    "# Solution 2: Dask bag?"
   ]
  },
  {
   "cell_type": "code",
   "execution_count": 8,
   "id": "09899b3a-9989-4d6e-a571-9ed93e9c9fd5",
   "metadata": {},
   "outputs": [],
   "source": [
    "import dask.bag as db\n",
    "\n",
    "@numba.njit(nogil=True)\n",
    "def iterate_mandelbrot(coords, width, height, max_iter, center, extent):\n",
    "    j, i = coords\n",
    "    z = 0\n",
    "    scale = max(extent.real/width, extent.imag/height)\n",
    "    c = center + (i - width // 2 + (j - height //2) * 1j) * scale\n",
    "    \n",
    "    # Per complex number, validate it for a finite number of iterations\n",
    "    for k in range(max_iter):\n",
    "        z = z**2 + c\n",
    "\n",
    "        # if module (or absolute value) of the complex number greater than 2,\n",
    "        # it will diverge, thus not within Mandelbrot set\n",
    "        if np.absolute(z) > 2.0: \n",
    "            break\n",
    "    return k\n",
    "\n",
    "def compute_mandelbrot_dask(width=WIDTH, height=HEIGHT, max_iter=MAX_ITER, center=CENTER, extent=EXTENT):\n",
    "    initial_state = np.ndindex(width, height)\n",
    "    bag = db.from_sequence(initial_state, npartitions=16)\n",
    "    return bag.map(lambda x: iterate_mandelbrot(x, width, height, max_iter, center, extent))"
   ]
  },
  {
   "cell_type": "code",
   "execution_count": 9,
   "id": "88c7ba04-ccef-4d54-8a3b-a6eb11ff25ae",
   "metadata": {},
   "outputs": [],
   "source": [
    "compute_mandelbrot_dask().compute(scheduler='threads');"
   ]
  },
  {
   "cell_type": "code",
   "execution_count": 10,
   "id": "e34399e4-014c-48d8-b27f-d91106625410",
   "metadata": {},
   "outputs": [],
   "source": [
    "#%%timeit\n",
    "#compute_mandelbrot_dask().compute(scheduler='threads');"
   ]
  },
  {
   "cell_type": "markdown",
   "id": "a1d9b6fa-014d-46e0-bd34-e923a303be4d",
   "metadata": {},
   "source": [
    "Ok, that is actually terrible. Can you think why?"
   ]
  },
  {
   "cell_type": "markdown",
   "id": "c2759d30-a63e-475a-a7db-8aff526b5dd0",
   "metadata": {},
   "source": [
    "# Solution 3: Numba vectorize"
   ]
  },
  {
   "cell_type": "code",
   "execution_count": 11,
   "id": "87763362-f605-4bd4-91cb-dde8d883816e",
   "metadata": {},
   "outputs": [],
   "source": [
    "@numba.vectorize\n",
    "def mandelbrot_vec(c, max_iter):\n",
    "    z = 0\n",
    "\n",
    "    # Per complex number, validate it for a finite number of iterations\n",
    "    for k in range(MAX_ITER):\n",
    "        z = z**2 + c\n",
    "\n",
    "        # if the modulus (or absolute value) of the complex number is greater than 2,\n",
    "        # it will diverge, thus not within Mandelbrot set\n",
    "        if np.absolute(z) > 2.0: \n",
    "            break\n",
    "\n",
    "    return k"
   ]
  },
  {
   "cell_type": "code",
   "execution_count": 12,
   "id": "193346e1-9f17-40d7-befd-df9ba8ab1e82",
   "metadata": {},
   "outputs": [],
   "source": [
    "def grid(width=WIDTH, height=HEIGHT, center=CENTER, extent=EXTENT):\n",
    "    x0 = center - extent / 2\n",
    "    x1 = center + extent / 2\n",
    "    g = np.indices([height, width])\n",
    "    scale = max(extent.real/width, extent.imag/height)\n",
    "    return center + (g[1] - width // 2 + (g[0] - height // 2)*1j) \\\n",
    "                  * scale"
   ]
  },
  {
   "cell_type": "code",
   "execution_count": 13,
   "id": "303c0f44-ce81-49b9-a257-80db8eaf2df8",
   "metadata": {},
   "outputs": [],
   "source": [
    "mandelbrot_vec(grid(), MAX_ITER) ;"
   ]
  },
  {
   "cell_type": "code",
   "execution_count": 14,
   "id": "454d142e-fe11-45a8-a1a3-150c994d3c24",
   "metadata": {},
   "outputs": [
    {
     "name": "stdout",
     "output_type": "stream",
     "text": [
      "884 ms ± 25.9 ms per loop (mean ± std. dev. of 7 runs, 1 loop each)\n"
     ]
    }
   ],
   "source": [
    "%%timeit\n",
    "mandelbrot_vec(grid(), MAX_ITER)"
   ]
  },
  {
   "cell_type": "markdown",
   "id": "e3627c16-4816-4b86-87df-2f6a3f51eb9c",
   "metadata": {},
   "source": [
    "That is on par with Numba jit on the outer loop."
   ]
  },
  {
   "cell_type": "markdown",
   "id": "a86779d9-65d4-460b-9690-3b155479bd3c",
   "metadata": {},
   "source": [
    "# Solution 3b: Vectorize with dask.array"
   ]
  },
  {
   "cell_type": "code",
   "execution_count": 15,
   "id": "b8908316-dd8e-4a52-9090-5cd80bc9f625",
   "metadata": {},
   "outputs": [],
   "source": [
    "from dask import array as da"
   ]
  },
  {
   "cell_type": "code",
   "execution_count": 16,
   "id": "b4707015-8c2f-4ece-938b-a5ed31dff684",
   "metadata": {},
   "outputs": [
    {
     "name": "stdout",
     "output_type": "stream",
     "text": [
      "297 ms ± 21.7 ms per loop (mean ± std. dev. of 7 runs, 1 loop each)\n"
     ]
    }
   ],
   "source": [
    "%%timeit\n",
    "mandelbrot_vec(da.from_array(grid(), chunks=(64, 64)), MAX_ITER).compute()"
   ]
  },
  {
   "cell_type": "markdown",
   "id": "602ef5b6-6b50-4141-9d27-4d9420eb70a3",
   "metadata": {},
   "source": [
    "This is our first speedup!"
   ]
  },
  {
   "cell_type": "markdown",
   "id": "0818ba25-507d-44f8-aa1e-34f8f66c0e2c",
   "metadata": {},
   "source": [
    "# Solution 4: split boxes\n",
    "We may split the domain ourselves. This requires a bit more structure to our code:"
   ]
  },
  {
   "cell_type": "code",
   "execution_count": 20,
   "id": "04b6d05e-8bd9-45a9-87f2-368894b2cc7c",
   "metadata": {},
   "outputs": [],
   "source": [
    "from dataclasses import dataclass\n",
    "from dask import delayed\n",
    "\n",
    "@delayed\n",
    "def gather(*args):\n",
    "    return list(args)\n",
    "\n",
    "@dataclass\n",
    "class Box:\n",
    "    width: int\n",
    "    height: int\n",
    "    center: complex\n",
    "    extent: complex\n",
    "    \n",
    "    def split(self, n):\n",
    "        \"\"\"Split the domain into nxn chunks. Returns a 2d list of `Box`.\"\"\"\n",
    "        sd = self.extent / n\n",
    "        x0 = self.center - self.extent / 2 + sd / 2\n",
    "        return [[Box(width=self.width//n, height=self.height//n,\n",
    "                     center=x0 + i * sd.real + j * sd.imag * 1j,\n",
    "                     extent=sd) for i in range(n)]\n",
    "                for j in range(n)]\n",
    "    \n",
    "@delayed\n",
    "def compute_mandelbrot_box(box, max_iter=MAX_ITER):\n",
    "    return compute_mandelbrot(box.width, box.height, box.center, box.extent, max_iter)\n",
    "\n",
    "def split_domain_map(box, f, n=4, num_workers=None):\n",
    "    wf = gather(*[gather(*[f(sub_domain) for sub_domain in row])\n",
    "                  for row in box.split(n)])\n",
    "    return np.block(wf.compute(num_workers=num_workers))"
   ]
  },
  {
   "cell_type": "code",
   "execution_count": 21,
   "id": "464085ce-6f16-4fb7-b881-513238fcf3b7",
   "metadata": {},
   "outputs": [
    {
     "name": "stdout",
     "output_type": "stream",
     "text": [
      "231 ms ± 8.13 ms per loop (mean ± std. dev. of 7 runs, 1 loop each)\n"
     ]
    }
   ],
   "source": [
    "%%timeit\n",
    "split_domain_map(Box(WIDTH,HEIGHT,CENTER,EXTENT), compute_mandelbrot_box)"
   ]
  },
  {
   "cell_type": "markdown",
   "id": "b88665be-185f-4265-bf61-5c16e67fcc57",
   "metadata": {},
   "source": [
    "So this is a bit more work, but we get the best speed-up!"
   ]
  }
 ],
 "metadata": {
  "kernelspec": {
   "display_name": "Python 3 (ipykernel)",
   "language": "python",
   "name": "python3"
  },
  "language_info": {
   "codemirror_mode": {
    "name": "ipython",
    "version": 3
   },
   "file_extension": ".py",
   "mimetype": "text/x-python",
   "name": "python",
   "nbconvert_exporter": "python",
   "pygments_lexer": "ipython3",
   "version": "3.9.9"
  }
 },
 "nbformat": 4,
 "nbformat_minor": 5
}
