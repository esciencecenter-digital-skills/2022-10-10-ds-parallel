{
 "cells": [
  {
   "cell_type": "markdown",
   "id": "74fdd832-897f-46fa-a8ea-2f7f4c467538",
   "metadata": {},
   "source": [
    "## Measuring performance"
   ]
  },
  {
   "cell_type": "code",
   "execution_count": 9,
   "id": "4ea42144-be66-48b1-9167-5036df121af1",
   "metadata": {},
   "outputs": [],
   "source": [
    "import numpy as np\n",
    "result = np.arange(10**9).sum()"
   ]
  },
  {
   "cell_type": "code",
   "execution_count": 11,
   "id": "e144e240-cca9-410f-b9ce-d0f947bf3bd6",
   "metadata": {},
   "outputs": [],
   "source": [
    "import dask.array as da\n",
    "work = da.arange(10**9).sum()\n",
    "result = work.compute()"
   ]
  },
  {
   "cell_type": "code",
   "execution_count": 13,
   "id": "90a6bf0e-d18a-485c-950e-9343be1af531",
   "metadata": {},
   "outputs": [
    {
     "name": "stdout",
     "output_type": "stream",
     "text": [
      "CPU times: user 2.14 s, sys: 1.66 s, total: 3.8 s\n",
      "Wall time: 3.8 s\n"
     ]
    },
    {
     "data": {
      "text/plain": [
       "499999999500000000"
      ]
     },
     "execution_count": 13,
     "metadata": {},
     "output_type": "execute_result"
    }
   ],
   "source": [
    "%%time\n",
    "np.arange(10**9).sum()"
   ]
  },
  {
   "cell_type": "code",
   "execution_count": 14,
   "id": "c0948170-1c34-4f53-9cf4-ff2a82f1a36d",
   "metadata": {},
   "outputs": [
    {
     "name": "stdout",
     "output_type": "stream",
     "text": [
      "3.87 s ± 27.1 ms per loop (mean ± std. dev. of 7 runs, 1 loop each)\n"
     ]
    }
   ],
   "source": [
    "%%timeit\n",
    "np.arange(10**9).sum()"
   ]
  },
  {
   "cell_type": "code",
   "execution_count": 15,
   "id": "1508f635-eb15-4d5c-9515-2534ab60402e",
   "metadata": {},
   "outputs": [
    {
     "name": "stdout",
     "output_type": "stream",
     "text": [
      "3.85 s ± 28.4 ms per loop (mean ± std. dev. of 7 runs, 1 loop each)\n"
     ]
    }
   ],
   "source": [
    "time = %timeit -o np.arange(10**9).sum()"
   ]
  },
  {
   "cell_type": "code",
   "execution_count": 16,
   "id": "54fa2be9-8107-4926-b5be-b203daad9100",
   "metadata": {},
   "outputs": [
    {
     "data": {
      "text/plain": [
       "<TimeitResult : 3.85 s ± 28.4 ms per loop (mean ± std. dev. of 7 runs, 1 loop each)>"
      ]
     },
     "execution_count": 16,
     "metadata": {},
     "output_type": "execute_result"
    }
   ],
   "source": [
    "time"
   ]
  },
  {
   "cell_type": "code",
   "execution_count": 17,
   "id": "d28957a5-ff18-4d46-aafb-7120b5725878",
   "metadata": {},
   "outputs": [
    {
     "name": "stdout",
     "output_type": "stream",
     "text": [
      "Time taken: 3.8532\n"
     ]
    }
   ],
   "source": [
    "print(f\"Time taken: {time.average:.4f}\")"
   ]
  },
  {
   "cell_type": "code",
   "execution_count": 18,
   "id": "7ecf4cc6-8829-4588-8b8b-fe30929eea23",
   "metadata": {},
   "outputs": [
    {
     "data": {
      "text/plain": [
       "['__class__',\n",
       " '__delattr__',\n",
       " '__dict__',\n",
       " '__dir__',\n",
       " '__doc__',\n",
       " '__eq__',\n",
       " '__format__',\n",
       " '__ge__',\n",
       " '__getattribute__',\n",
       " '__gt__',\n",
       " '__hash__',\n",
       " '__init__',\n",
       " '__init_subclass__',\n",
       " '__le__',\n",
       " '__lt__',\n",
       " '__module__',\n",
       " '__ne__',\n",
       " '__new__',\n",
       " '__reduce__',\n",
       " '__reduce_ex__',\n",
       " '__repr__',\n",
       " '__setattr__',\n",
       " '__sizeof__',\n",
       " '__str__',\n",
       " '__subclasshook__',\n",
       " '__weakref__',\n",
       " '_precision',\n",
       " '_repr_pretty_',\n",
       " 'all_runs',\n",
       " 'average',\n",
       " 'best',\n",
       " 'compile_time',\n",
       " 'loops',\n",
       " 'repeat',\n",
       " 'stdev',\n",
       " 'timings',\n",
       " 'worst']"
      ]
     },
     "execution_count": 18,
     "metadata": {},
     "output_type": "execute_result"
    }
   ],
   "source": [
    "dir(time)"
   ]
  },
  {
   "cell_type": "code",
   "execution_count": 19,
   "id": "fc557a0c-c5e3-4afe-884a-368777e9291a",
   "metadata": {},
   "outputs": [
    {
     "data": {
      "text/plain": [
       "\u001b[0;31mType:\u001b[0m        TimeitResult\n",
       "\u001b[0;31mString form:\u001b[0m 3.85 s ± 28.4 ms per loop (mean ± std. dev. of 7 runs, 1 loop each)\n",
       "\u001b[0;31mFile:\u001b[0m        ~/pyenv/versions/3.9.1/envs/lesson_parallel_python/lib/python3.9/site-packages/IPython/core/magics/execution.py\n",
       "\u001b[0;31mDocstring:\u001b[0m  \n",
       "Object returned by the timeit magic with info about the run.\n",
       "\n",
       "Contains the following attributes :\n",
       "\n",
       "loops: (int) number of loops done per measurement\n",
       "repeat: (int) number of times the measurement has been repeated\n",
       "best: (float) best execution time / number\n",
       "all_runs: (list of float) execution time of each run (in s)\n",
       "compile_time: (float) time of statement compilation (s)\n"
      ]
     },
     "metadata": {},
     "output_type": "display_data"
    }
   ],
   "source": [
    "time?"
   ]
  },
  {
   "cell_type": "code",
   "execution_count": 20,
   "id": "ae6f3e9c-ef0a-4b31-9dbc-d26de29c3982",
   "metadata": {},
   "outputs": [
    {
     "data": {
      "text/plain": [
       "3.807969180999862"
      ]
     },
     "execution_count": 20,
     "metadata": {},
     "output_type": "execute_result"
    }
   ],
   "source": [
    "time.best"
   ]
  },
  {
   "cell_type": "code",
   "execution_count": 21,
   "id": "d1a9c736-ad27-4369-9187-bb8a83b4d6ab",
   "metadata": {},
   "outputs": [
    {
     "name": "stdout",
     "output_type": "stream",
     "text": [
      "775 ms ± 10.5 ms per loop (mean ± std. dev. of 7 runs, 1 loop each)\n"
     ]
    }
   ],
   "source": [
    "%%timeit\n",
    "da.arange(10**9).sum().compute()"
   ]
  },
  {
   "cell_type": "code",
   "execution_count": 22,
   "id": "60724f1c-b880-41d6-9534-c18b848bef21",
   "metadata": {},
   "outputs": [],
   "source": [
    "work = da.arange(10**9).sum()"
   ]
  },
  {
   "cell_type": "code",
   "execution_count": 23,
   "id": "39d9dee3-cabc-4745-a9e6-72f4ecc72729",
   "metadata": {},
   "outputs": [
    {
     "name": "stdout",
     "output_type": "stream",
     "text": [
      "788 ms ± 28.5 ms per loop (mean ± std. dev. of 7 runs, 1 loop each)\n"
     ]
    }
   ],
   "source": [
    "%%timeit\n",
    "work.compute()"
   ]
  },
  {
   "cell_type": "markdown",
   "id": "15363fe7-708d-491a-bc29-24f6d1c3b239",
   "metadata": {},
   "source": [
    "### Memory profiling"
   ]
  },
  {
   "cell_type": "code",
   "execution_count": 24,
   "id": "f4404a36-6d0c-4d9a-a54a-fb69564a8257",
   "metadata": {},
   "outputs": [
    {
     "name": "stdout",
     "output_type": "stream",
     "text": [
      "Requirement already satisfied: memory_profiler in /Users/loostrum/pyenv/versions/3.9.1/envs/lesson_parallel_python/lib/python3.9/site-packages (0.58.0)\n",
      "Requirement already satisfied: psutil in /Users/loostrum/pyenv/versions/3.9.1/envs/lesson_parallel_python/lib/python3.9/site-packages (from memory_profiler) (5.8.0)\n",
      "\u001b[33mWARNING: You are using pip version 21.3.1; however, version 22.2.2 is available.\n",
      "You should consider upgrading via the '/Users/loostrum/pyenv/versions/3.9.1/envs/lesson_parallel_python/bin/python3.9 -m pip install --upgrade pip' command.\u001b[0m\n"
     ]
    }
   ],
   "source": [
    "!pip install memory_profiler"
   ]
  },
  {
   "cell_type": "code",
   "execution_count": 25,
   "id": "6ef06706-5fb1-45be-8107-9b0cf634cd5d",
   "metadata": {},
   "outputs": [],
   "source": [
    "from memory_profiler import memory_usage"
   ]
  },
  {
   "cell_type": "code",
   "execution_count": 26,
   "id": "1ea13280-73f3-4e2e-95ee-7a6a4a2e4240",
   "metadata": {},
   "outputs": [],
   "source": [
    "import numpy as np\n",
    "import dask.array as da\n",
    "import matplotlib.pyplot as plt"
   ]
  },
  {
   "cell_type": "code",
   "execution_count": 27,
   "id": "29300009-e570-4724-bd02-b1b640115c5d",
   "metadata": {},
   "outputs": [
    {
     "data": {
      "image/png": "[encoded data removed]",
      "text/plain": [
       "<Figure size 432x288 with 1 Axes>"
      ]
     },
     "metadata": {
      "needs_background": "light"
     },
     "output_type": "display_data"
    }
   ],
   "source": [
    "def sum_with_numpy():\n",
    "    np.arange(10**9).sum()\n",
    "\n",
    "def sum_with_dask():\n",
    "    da.arange(10**9).sum().compute()\n",
    "\n",
    "memory_numpy = memory_usage(sum_with_numpy, interval=.01)\n",
    "memory_dask = memory_usage(sum_with_dask, interval=.01)\n",
    "\n",
    "# plot results\n",
    "plt.plot(memory_numpy, label='numpy')\n",
    "plt.plot(memory_dask, label='dask')\n",
    "plt.xlabel('Time step')\n",
    "plt.ylabel('Memory / MB')\n",
    "plt.legend()\n",
    "plt.show()"
   ]
  },
  {
   "cell_type": "code",
   "execution_count": 31,
   "id": "0fe52323-a5d1-469a-92f6-ad4f21c9aebc",
   "metadata": {},
   "outputs": [
    {
     "data": {
      "text/plain": [
       "80"
      ]
     },
     "execution_count": 31,
     "metadata": {},
     "output_type": "execute_result"
    }
   ],
   "source": [
    "np.arange(10).itemsize\n",
    "np.arange(10).nbytes"
   ]
  },
  {
   "cell_type": "code",
   "execution_count": 32,
   "id": "a35ddd5c-8394-4de9-96a9-6381393a8739",
   "metadata": {},
   "outputs": [
    {
     "data": {
      "text/html": [
       "<table>\n",
       "    <tr>\n",
       "        <td>\n",
       "            <table>\n",
       "                <thead>\n",
       "                    <tr>\n",
       "                        <td> </td>\n",
       "                        <th> Array </th>\n",
       "                        <th> Chunk </th>\n",
       "                    </tr>\n",
       "                </thead>\n",
       "                <tbody>\n",
       "                    \n",
       "                    <tr>\n",
       "                        <th> Bytes </th>\n",
       "                        <td> 8 B </td>\n",
       "                        <td> 8.0 B </td>\n",
       "                    </tr>\n",
       "                    \n",
       "                    <tr>\n",
       "                        <th> Shape </th>\n",
       "                        <td> () </td>\n",
       "                        <td> () </td>\n",
       "                    </tr>\n",
       "                    <tr>\n",
       "                        <th> Count </th>\n",
       "                        <td> 149 Tasks </td>\n",
       "                        <td> 1 Chunks </td>\n",
       "                    </tr>\n",
       "                    <tr>\n",
       "                    <th> Type </th>\n",
       "                    <td> int64 </td>\n",
       "                    <td> numpy.ndarray </td>\n",
       "                    </tr>\n",
       "                </tbody>\n",
       "            </table>\n",
       "        </td>\n",
       "        <td>\n",
       "        \n",
       "        </td>\n",
       "    </tr>\n",
       "</table>"
      ],
      "text/plain": [
       "dask.array<sum-aggregate, shape=(), dtype=int64, chunksize=(), chunktype=numpy.ndarray>"
      ]
     },
     "execution_count": 32,
     "metadata": {},
     "output_type": "execute_result"
    }
   ],
   "source": [
    "da.arange(10**9).sum()"
   ]
  },
  {
   "cell_type": "code",
   "execution_count": 33,
   "id": "e3a5b38d-7a48-41cf-b2e1-91e5c0470678",
   "metadata": {},
   "outputs": [
    {
     "data": {
      "text/html": [
       "<table>\n",
       "    <tr>\n",
       "        <td>\n",
       "            <table>\n",
       "                <thead>\n",
       "                    <tr>\n",
       "                        <td> </td>\n",
       "                        <th> Array </th>\n",
       "                        <th> Chunk </th>\n",
       "                    </tr>\n",
       "                </thead>\n",
       "                <tbody>\n",
       "                    \n",
       "                    <tr>\n",
       "                        <th> Bytes </th>\n",
       "                        <td> 7.45 GiB </td>\n",
       "                        <td> 119.21 MiB </td>\n",
       "                    </tr>\n",
       "                    \n",
       "                    <tr>\n",
       "                        <th> Shape </th>\n",
       "                        <td> (1000000000,) </td>\n",
       "                        <td> (15625000,) </td>\n",
       "                    </tr>\n",
       "                    <tr>\n",
       "                        <th> Count </th>\n",
       "                        <td> 64 Tasks </td>\n",
       "                        <td> 64 Chunks </td>\n",
       "                    </tr>\n",
       "                    <tr>\n",
       "                    <th> Type </th>\n",
       "                    <td> int64 </td>\n",
       "                    <td> numpy.ndarray </td>\n",
       "                    </tr>\n",
       "                </tbody>\n",
       "            </table>\n",
       "        </td>\n",
       "        <td>\n",
       "        <svg width=\"170\" height=\"75\" style=\"stroke:rgb(0,0,0);stroke-width:1\" >\n",
       "\n",
       "  <!-- Horizontal lines -->\n",
       "  <line x1=\"0\" y1=\"0\" x2=\"120\" y2=\"0\" style=\"stroke-width:2\" />\n",
       "  <line x1=\"0\" y1=\"25\" x2=\"120\" y2=\"25\" style=\"stroke-width:2\" />\n",
       "\n",
       "  <!-- Vertical lines -->\n",
       "  <line x1=\"0\" y1=\"0\" x2=\"0\" y2=\"25\" style=\"stroke-width:2\" />\n",
       "  <line x1=\"5\" y1=\"0\" x2=\"5\" y2=\"25\" />\n",
       "  <line x1=\"11\" y1=\"0\" x2=\"11\" y2=\"25\" />\n",
       "  <line x1=\"18\" y1=\"0\" x2=\"18\" y2=\"25\" />\n",
       "  <line x1=\"24\" y1=\"0\" x2=\"24\" y2=\"25\" />\n",
       "  <line x1=\"30\" y1=\"0\" x2=\"30\" y2=\"25\" />\n",
       "  <line x1=\"37\" y1=\"0\" x2=\"37\" y2=\"25\" />\n",
       "  <line x1=\"43\" y1=\"0\" x2=\"43\" y2=\"25\" />\n",
       "  <line x1=\"48\" y1=\"0\" x2=\"48\" y2=\"25\" />\n",
       "  <line x1=\"56\" y1=\"0\" x2=\"56\" y2=\"25\" />\n",
       "  <line x1=\"61\" y1=\"0\" x2=\"61\" y2=\"25\" />\n",
       "  <line x1=\"69\" y1=\"0\" x2=\"69\" y2=\"25\" />\n",
       "  <line x1=\"75\" y1=\"0\" x2=\"75\" y2=\"25\" />\n",
       "  <line x1=\"80\" y1=\"0\" x2=\"80\" y2=\"25\" />\n",
       "  <line x1=\"88\" y1=\"0\" x2=\"88\" y2=\"25\" />\n",
       "  <line x1=\"93\" y1=\"0\" x2=\"93\" y2=\"25\" />\n",
       "  <line x1=\"99\" y1=\"0\" x2=\"99\" y2=\"25\" />\n",
       "  <line x1=\"106\" y1=\"0\" x2=\"106\" y2=\"25\" />\n",
       "  <line x1=\"112\" y1=\"0\" x2=\"112\" y2=\"25\" />\n",
       "  <line x1=\"120\" y1=\"0\" x2=\"120\" y2=\"25\" style=\"stroke-width:2\" />\n",
       "\n",
       "  <!-- Colored Rectangle -->\n",
       "  <polygon points=\"0.0,0.0 120.0,0.0 120.0,25.412616514582485 0.0,25.412616514582485\" style=\"fill:#8B4903A0;stroke-width:0\"/>\n",
       "\n",
       "  <!-- Text -->\n",
       "  <text x=\"60.000000\" y=\"45.412617\" font-size=\"1.0rem\" font-weight=\"100\" text-anchor=\"middle\" >1000000000</text>\n",
       "  <text x=\"140.000000\" y=\"12.706308\" font-size=\"1.0rem\" font-weight=\"100\" text-anchor=\"middle\" transform=\"rotate(0,140.000000,12.706308)\">1</text>\n",
       "</svg>\n",
       "        </td>\n",
       "    </tr>\n",
       "</table>"
      ],
      "text/plain": [
       "dask.array<arange, shape=(1000000000,), dtype=int64, chunksize=(15625000,), chunktype=numpy.ndarray>"
      ]
     },
     "execution_count": 33,
     "metadata": {},
     "output_type": "execute_result"
    }
   ],
   "source": [
    "da.arange(10**9)"
   ]
  },
  {
   "cell_type": "code",
   "execution_count": 34,
   "id": "702598db-84ac-4eff-a12f-a3d0d16a5d3c",
   "metadata": {},
   "outputs": [],
   "source": [
    "import psutil"
   ]
  },
  {
   "cell_type": "code",
   "execution_count": 36,
   "id": "7379cdec-2a24-4b92-a952-e6259caae92b",
   "metadata": {},
   "outputs": [
    {
     "name": "stdout",
     "output_type": "stream",
     "text": [
      "The number of physical/logical cores is 4/8\n"
     ]
    }
   ],
   "source": [
    "N_physical_cores = psutil.cpu_count(logical=False)\n",
    "N_logical_cores = psutil.cpu_count(logical=True)\n",
    "\n",
    "print(f\"The number of physical/logical cores is {N_physical_cores}/{N_logical_cores}\")"
   ]
  },
  {
   "cell_type": "code",
   "execution_count": 39,
   "id": "c93daff6-b7f0-46a1-a595-69c6aca82144",
   "metadata": {
    "tags": []
   },
   "outputs": [
    {
     "name": "stdout",
     "output_type": "stream",
     "text": [
      "971 ms ± 0 ns per loop (mean ± std. dev. of 1 run, 1 loop each)\n",
      "614 ms ± 0 ns per loop (mean ± std. dev. of 1 run, 1 loop each)\n",
      "437 ms ± 0 ns per loop (mean ± std. dev. of 1 run, 1 loop each)\n",
      "409 ms ± 0 ns per loop (mean ± std. dev. of 1 run, 1 loop each)\n",
      "397 ms ± 0 ns per loop (mean ± std. dev. of 1 run, 1 loop each)\n",
      "404 ms ± 0 ns per loop (mean ± std. dev. of 1 run, 1 loop each)\n",
      "378 ms ± 0 ns per loop (mean ± std. dev. of 1 run, 1 loop each)\n",
      "382 ms ± 0 ns per loop (mean ± std. dev. of 1 run, 1 loop each)\n",
      "377 ms ± 0 ns per loop (mean ± std. dev. of 1 run, 1 loop each)\n",
      "451 ms ± 0 ns per loop (mean ± std. dev. of 1 run, 1 loop each)\n",
      "433 ms ± 0 ns per loop (mean ± std. dev. of 1 run, 1 loop each)\n",
      "377 ms ± 0 ns per loop (mean ± std. dev. of 1 run, 1 loop each)\n",
      "418 ms ± 0 ns per loop (mean ± std. dev. of 1 run, 1 loop each)\n",
      "370 ms ± 0 ns per loop (mean ± std. dev. of 1 run, 1 loop each)\n"
     ]
    }
   ],
   "source": [
    "x = []\n",
    "for n in range(1, 15):\n",
    "    time_taken = %timeit -r 1 -o da.arange(5*10**8).sum(). \\\n",
    "    compute(num_workers=n)\n",
    "    x.append(time_taken.average)"
   ]
  },
  {
   "cell_type": "code",
   "execution_count": 40,
   "id": "1d6d3cb1-7082-45ab-a175-109391de4585",
   "metadata": {},
   "outputs": [
    {
     "data": {
      "text/plain": [
       "<AxesSubplot:xlabel='n'>"
      ]
     },
     "execution_count": 40,
     "metadata": {},
     "output_type": "execute_result"
    },
    {
     "data": {
      "image/png": "[encoded data removed]",
      "text/plain": [
       "<Figure size 432x288 with 1 Axes>"
      ]
     },
     "metadata": {
      "needs_background": "light"
     },
     "output_type": "display_data"
    }
   ],
   "source": [
    "import pandas as pd\n",
    "data = pd.DataFrame({\"n\": range(1, 15), \"t\": x})\n",
    "data.set_index(\"n\").plot()"
   ]
  },
  {
   "cell_type": "markdown",
   "id": "d4369127-04c7-4d7b-810c-a658670d1a64",
   "metadata": {},
   "source": [
    "# Lunch break until 13:30"
   ]
  }
 ],
 "metadata": {
  "kernelspec": {
   "display_name": "Python 3 (ipykernel)",
   "language": "python",
   "name": "python3"
  },
  "language_info": {
   "codemirror_mode": {
    "name": "ipython",
    "version": 3
   },
   "file_extension": ".py",
   "mimetype": "text/x-python",
   "name": "python",
   "nbconvert_exporter": "python",
   "pygments_lexer": "ipython3",
   "version": "3.10.6"
  }
 },
 "nbformat": 4,
 "nbformat_minor": 5
}
