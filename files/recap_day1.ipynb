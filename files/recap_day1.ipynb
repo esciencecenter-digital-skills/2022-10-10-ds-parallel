{
 "cells": [
  {
   "cell_type": "markdown",
   "id": "4b4ea4b8-c44e-43ce-9970-e8c57ed04730",
   "metadata": {},
   "source": [
    "## Recap of day 1"
   ]
  },
  {
   "cell_type": "markdown",
   "id": "17428a73-05fb-4757-ae0b-86b45ed8d801",
   "metadata": {},
   "source": [
    "### Measuring performance\n",
    "- %time %timeit\n",
    "- memory_profiler"
   ]
  },
  {
   "cell_type": "markdown",
   "id": "364c9268-118f-4ce2-b91b-c9458ea7b3f8",
   "metadata": {},
   "source": [
    "- dask.array, like numpy "
   ]
  },
  {
   "cell_type": "markdown",
   "id": "b014594c-7be7-471e-bef6-0ddfd21f71c5",
   "metadata": {},
   "source": [
    "## Calculating pi in different ways\n",
    "\n",
    "- numba: like a python compiler\n",
    "- threads and processes. Beware of the Global Interpreter Lock"
   ]
  },
  {
   "cell_type": "markdown",
   "id": "03640bb1-e155-4d41-a2af-a0e64d2bb47e",
   "metadata": {},
   "source": [
    "### How to access the result of a threaded computation?"
   ]
  },
  {
   "cell_type": "code",
   "execution_count": 3,
   "id": "4183b3eb-c22f-4a23-9c4e-be7cef4cdeb9",
   "metadata": {},
   "outputs": [],
   "source": [
    "import multiprocessing as mp\n",
    "from threading import Thread"
   ]
  },
  {
   "cell_type": "code",
   "execution_count": 4,
   "id": "ce6f5a24-84cf-4b91-9b0e-88cc529c5d99",
   "metadata": {},
   "outputs": [],
   "source": [
    "t = Thread(target=sum, args=([1,2,3,4], ))\n",
    "\n",
    "t.start()\n",
    "\n",
    "t.join()"
   ]
  },
  {
   "cell_type": "code",
   "execution_count": 5,
   "id": "8f8182e6-1e2a-40a0-97c6-cf6799fe1d41",
   "metadata": {},
   "outputs": [],
   "source": [
    "queue = mp.Queue()"
   ]
  },
  {
   "cell_type": "code",
   "execution_count": 6,
   "id": "aab12f80-0de7-47b6-b976-701c16942ce5",
   "metadata": {},
   "outputs": [],
   "source": [
    "def mysum(values, q):\n",
    "    result = sum(values)\n",
    "    q.put(result)\n",
    "    \n",
    "t2 = Thread(target=mysum, args=([1,2,3,4], queue))\n",
    "\n",
    "t2.start()\n",
    "t2.join()"
   ]
  },
  {
   "cell_type": "code",
   "execution_count": 7,
   "id": "38337b06-1f2e-4e35-8b0c-6256d65f8019",
   "metadata": {},
   "outputs": [
    {
     "data": {
      "text/plain": [
       "10"
      ]
     },
     "execution_count": 7,
     "metadata": {},
     "output_type": "execute_result"
    }
   ],
   "source": [
    "queue.get()"
   ]
  },
  {
   "cell_type": "code",
   "execution_count": null,
   "id": "99585dad-fba0-4801-819a-6b8bbb16e552",
   "metadata": {},
   "outputs": [],
   "source": []
  }
 ],
 "metadata": {
  "kernelspec": {
   "display_name": "Python 3 (ipykernel)",
   "language": "python",
   "name": "python3"
  },
  "language_info": {
   "codemirror_mode": {
    "name": "ipython",
    "version": 3
   },
   "file_extension": ".py",
   "mimetype": "text/x-python",
   "name": "python",
   "nbconvert_exporter": "python",
   "pygments_lexer": "ipython3",
   "version": "3.10.6"
  }
 },
 "nbformat": 4,
 "nbformat_minor": 5
}
